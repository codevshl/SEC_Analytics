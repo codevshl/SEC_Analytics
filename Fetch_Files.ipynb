{
 "cells": [
  {
   "cell_type": "code",
   "execution_count": null,
   "id": "e4f2f0a0-c433-4725-9ee2-6129fdd6929b",
   "metadata": {},
   "outputs": [],
   "source": [
    "import os\n",
    "import re\n",
    "from sec_edgar_downloader import Downloader\n",
    "from bs4 import BeautifulSoup\n",
    "\n",
    "\n",
    "def disintegrate_file( file_path):\n",
    "    with open(file_path, 'r') as file:\n",
    "        content = file.read()\n",
    "\n",
    "    # Use regular expression to find all <FILENAME> tags and extract the filenames\n",
    "    filenames = re.findall(r'<FILENAME>(.*?)\\n', content)\n",
    "\n",
    "    # If no <FILENAME> tags are found, generate a filename using the original filename\n",
    "    if not filenames:\n",
    "        base_filename = os.path.basename(file_path).replace('.txt', '') + '_document'\n",
    "        filenames = [base_filename]\n",
    "\n",
    "    # Use regular expression to find and split based on start and end tags\n",
    "    documents = re.findall(r'<DOCUMENT>(.*?)</DOCUMENT>', content, re.DOTALL)\n",
    "    \n",
    "    # Save each document to a separate file\n",
    "    for filename, doc in zip(filenames, documents):        \n",
    "        processed_text = doc.strip()  \n",
    "\n",
    "        # Save the document to a new file\n",
    "        output_file_path = os.path.join(os.path.dirname(file_path), f\"{filename}\")\n",
    "        with open(output_file_path, 'w', encoding='utf-8') as output_file:\n",
    "            output_file.write(processed_text)\n",
    "\n",
    "\n",
    "def download_10k_filings(ticker, start_year, end_year):\n",
    "    dl = Downloader(\"MyCompanyName\", \"my.email@domain.com\")\n",
    "\n",
    "    for year in range(start_year, end_year + 1):\n",
    "        dl.get(\"10-K\", ticker, after=str(year-1)+\"-12-31\", before=str(year+1)+\"-01-01\",download_details=True)\n",
    "\n",
    "        # Clean the downloaded files\n",
    "        filing_path = os.path.join(\"sec-edgar-filings\", ticker, \"10-K\")\n",
    "        \n",
    "        for root, dirs, files in os.walk(filing_path):\n",
    "            for file in files:\n",
    "                if file.endswith(\".txt\"):\n",
    "                      disintegrate_file(os.path.join(root, file))\n",
    "\n",
    "# Example usage:\n",
    "companies = [\"AAPL\"]  # Add more tickers if needed\n",
    "start_year = 2021\n",
    "end_year = 2022\n",
    "\n",
    "for company in companies:\n",
    "    download_10k_filings(company, start_year, end_year)"
   ]
  }
 ],
 "metadata": {
  "kernelspec": {
   "display_name": "Python 3 (ipykernel)",
   "language": "python",
   "name": "python3"
  },
  "language_info": {
   "codemirror_mode": {
    "name": "ipython",
    "version": 3
   },
   "file_extension": ".py",
   "mimetype": "text/x-python",
   "name": "python",
   "nbconvert_exporter": "python",
   "pygments_lexer": "ipython3",
   "version": "3.11.7"
  }
 },
 "nbformat": 4,
 "nbformat_minor": 5
}
