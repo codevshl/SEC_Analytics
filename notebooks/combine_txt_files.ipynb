{
 "cells": [
  {
   "cell_type": "code",
   "execution_count": 30,
   "metadata": {},
   "outputs": [],
   "source": [
    "import os\n",
    "import re\n",
    "from collections import defaultdict\n",
    "from sec_edgar_downloader import Downloader\n",
    "from bs4 import BeautifulSoup"
   ]
  },
  {
   "cell_type": "code",
   "execution_count": null,
   "metadata": {},
   "outputs": [],
   "source": []
  },
  {
   "cell_type": "code",
   "execution_count": 39,
   "metadata": {},
   "outputs": [],
   "source": [
    "def combine_txt_files(ticker_dir):\n",
    "    # Get the directory path for the ticker\n",
    "    ticker_path = os.path.join(\"sec-edgar-filings\", ticker_dir, \"10-K\")\n",
    "\n",
    "    # Initialize a list to store the content of .txt files\n",
    "    txt_content = []\n",
    "\n",
    "    # List all directories inside the ticker's 10-K directory\n",
    "    for sub_dir in os.listdir(ticker_path):\n",
    "        sub_dir_path = os.path.join(ticker_path, sub_dir)\n",
    "        if os.path.isdir(sub_dir_path):  # Check if it's a directory\n",
    "            # Traverse files in the current subdirectory\n",
    "            for root, _, files in os.walk(sub_dir_path):\n",
    "                # Traverse files in the current directory\n",
    "                for file in files:\n",
    "                    # Check if the file is a .txt file\n",
    "                    if file.endswith(\".txt\"):\n",
    "                        # Open and read the content of the file\n",
    "                        with open(os.path.join(root, file), \"r\") as f:\n",
    "                            txt_content.append(f.read())\n",
    "\n",
    "    # Combine the content of all .txt files into one string\n",
    "    combined_content = \"\\n\".join(txt_content)\n",
    "\n",
    "    # Write the combined content into a new file\n",
    "    combined_file_path = os.path.join(ticker_path, f\"{ticker_dir}_10K_combined.txt\")\n",
    "    with open(combined_file_path, \"w\") as combined_file:\n",
    "        combined_file.write(combined_content)"
   ]
  },
  {
   "cell_type": "code",
   "execution_count": 40,
   "metadata": {},
   "outputs": [],
   "source": [
    "# # Example usage:\n",
    "# companies = [\"AAPL\"]  # Add more tickers if needed\n",
    "# start_year = 2018\n",
    "# end_year = 2022\n",
    "\n",
    "# for company in companies:\n",
    "#     # download_10k_filings(company, start_year, end_year)\n",
    "#     combine_txt_files(company)\n",
    "\n",
    "#in case ticker isn't known with respect to directory name\n",
    "ticker_dirs = os.listdir(\"sec-edgar-filings\")  # Get all ticker directories\n",
    "for ticker_dir in ticker_dirs:\n",
    "    combine_txt_files(ticker_dir)"
   ]
  },
  {
   "cell_type": "code",
   "execution_count": null,
   "metadata": {},
   "outputs": [],
   "source": []
  }
 ],
 "metadata": {
  "kernelspec": {
   "display_name": "Python 3 (ipykernel)",
   "language": "python",
   "name": "python3"
  },
  "language_info": {
   "codemirror_mode": {
    "name": "ipython",
    "version": 3
   },
   "file_extension": ".py",
   "mimetype": "text/x-python",
   "name": "python",
   "nbconvert_exporter": "python",
   "pygments_lexer": "ipython3",
   "version": "3.11.7"
  }
 },
 "nbformat": 4,
 "nbformat_minor": 4
}
